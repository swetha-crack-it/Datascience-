{
  "cells": [
    {
      "cell_type": "markdown",
      "metadata": {
        "id": "view-in-github",
        "colab_type": "text"
      },
      "source": [
        "<a href=\"https://colab.research.google.com/github/swetha-crack-it/Datascience-/blob/main/Data_science_2.ipynb\" target=\"_parent\"><img src=\"https://colab.research.google.com/assets/colab-badge.svg\" alt=\"Open In Colab\"/></a>"
      ]
    },
    {
      "cell_type": "code",
      "execution_count": null,
      "metadata": {
        "id": "PwA6c2R8U_Nz"
      },
      "outputs": [],
      "source": []
    },
    {
      "cell_type": "code",
      "execution_count": null,
      "metadata": {
        "id": "qjHEMhO1UAcJ"
      },
      "outputs": [],
      "source": [
        "import pandas as pd"
      ]
    },
    {
      "cell_type": "code",
      "execution_count": null,
      "metadata": {
        "colab": {
          "base_uri": "https://localhost:8080/",
          "height": 293
        },
        "id": "aXkIYrm_VA1D",
        "outputId": "34baea83-2fbf-4ea1-92eb-c83a991e83d2"
      },
      "outputs": [
        {
          "output_type": "execute_result",
          "data": {
            "text/plain": [
              "                                 Name    Year Duration            Genre  \\\n",
              "0                                         NaN      NaN            Drama   \n",
              "1  #Gadhvi (He thought he was Gandhi)  (2019)  109 min            Drama   \n",
              "2                         #Homecoming  (2021)   90 min   Drama, Musical   \n",
              "3                             #Yaaram  (2019)  110 min  Comedy, Romance   \n",
              "4                   ...And Once Again  (2010)  105 min            Drama   \n",
              "\n",
              "   Rating Votes            Director       Actor 1             Actor 2  \\\n",
              "0     NaN   NaN       J.S. Randhawa      Manmauji              Birbal   \n",
              "1     7.0     8       Gaurav Bakshi  Rasika Dugal      Vivek Ghamande   \n",
              "2     NaN   NaN  Soumyajit Majumdar  Sayani Gupta   Plabita Borthakur   \n",
              "3     4.4    35          Ovais Khan       Prateik          Ishita Raj   \n",
              "4     NaN   NaN        Amol Palekar  Rajat Kapoor  Rituparna Sengupta   \n",
              "\n",
              "           Actor 3  \n",
              "0  Rajendra Bhatia  \n",
              "1    Arvind Jangid  \n",
              "2       Roy Angana  \n",
              "3  Siddhant Kapoor  \n",
              "4      Antara Mali  "
            ],
            "text/html": [
              "\n",
              "  <div id=\"df-f0f81951-f54c-4c05-832b-7864d59200d9\" class=\"colab-df-container\">\n",
              "    <div>\n",
              "<style scoped>\n",
              "    .dataframe tbody tr th:only-of-type {\n",
              "        vertical-align: middle;\n",
              "    }\n",
              "\n",
              "    .dataframe tbody tr th {\n",
              "        vertical-align: top;\n",
              "    }\n",
              "\n",
              "    .dataframe thead th {\n",
              "        text-align: right;\n",
              "    }\n",
              "</style>\n",
              "<table border=\"1\" class=\"dataframe\">\n",
              "  <thead>\n",
              "    <tr style=\"text-align: right;\">\n",
              "      <th></th>\n",
              "      <th>Name</th>\n",
              "      <th>Year</th>\n",
              "      <th>Duration</th>\n",
              "      <th>Genre</th>\n",
              "      <th>Rating</th>\n",
              "      <th>Votes</th>\n",
              "      <th>Director</th>\n",
              "      <th>Actor 1</th>\n",
              "      <th>Actor 2</th>\n",
              "      <th>Actor 3</th>\n",
              "    </tr>\n",
              "  </thead>\n",
              "  <tbody>\n",
              "    <tr>\n",
              "      <th>0</th>\n",
              "      <td></td>\n",
              "      <td>NaN</td>\n",
              "      <td>NaN</td>\n",
              "      <td>Drama</td>\n",
              "      <td>NaN</td>\n",
              "      <td>NaN</td>\n",
              "      <td>J.S. Randhawa</td>\n",
              "      <td>Manmauji</td>\n",
              "      <td>Birbal</td>\n",
              "      <td>Rajendra Bhatia</td>\n",
              "    </tr>\n",
              "    <tr>\n",
              "      <th>1</th>\n",
              "      <td>#Gadhvi (He thought he was Gandhi)</td>\n",
              "      <td>(2019)</td>\n",
              "      <td>109 min</td>\n",
              "      <td>Drama</td>\n",
              "      <td>7.0</td>\n",
              "      <td>8</td>\n",
              "      <td>Gaurav Bakshi</td>\n",
              "      <td>Rasika Dugal</td>\n",
              "      <td>Vivek Ghamande</td>\n",
              "      <td>Arvind Jangid</td>\n",
              "    </tr>\n",
              "    <tr>\n",
              "      <th>2</th>\n",
              "      <td>#Homecoming</td>\n",
              "      <td>(2021)</td>\n",
              "      <td>90 min</td>\n",
              "      <td>Drama, Musical</td>\n",
              "      <td>NaN</td>\n",
              "      <td>NaN</td>\n",
              "      <td>Soumyajit Majumdar</td>\n",
              "      <td>Sayani Gupta</td>\n",
              "      <td>Plabita Borthakur</td>\n",
              "      <td>Roy Angana</td>\n",
              "    </tr>\n",
              "    <tr>\n",
              "      <th>3</th>\n",
              "      <td>#Yaaram</td>\n",
              "      <td>(2019)</td>\n",
              "      <td>110 min</td>\n",
              "      <td>Comedy, Romance</td>\n",
              "      <td>4.4</td>\n",
              "      <td>35</td>\n",
              "      <td>Ovais Khan</td>\n",
              "      <td>Prateik</td>\n",
              "      <td>Ishita Raj</td>\n",
              "      <td>Siddhant Kapoor</td>\n",
              "    </tr>\n",
              "    <tr>\n",
              "      <th>4</th>\n",
              "      <td>...And Once Again</td>\n",
              "      <td>(2010)</td>\n",
              "      <td>105 min</td>\n",
              "      <td>Drama</td>\n",
              "      <td>NaN</td>\n",
              "      <td>NaN</td>\n",
              "      <td>Amol Palekar</td>\n",
              "      <td>Rajat Kapoor</td>\n",
              "      <td>Rituparna Sengupta</td>\n",
              "      <td>Antara Mali</td>\n",
              "    </tr>\n",
              "  </tbody>\n",
              "</table>\n",
              "</div>\n",
              "    <div class=\"colab-df-buttons\">\n",
              "\n",
              "  <div class=\"colab-df-container\">\n",
              "    <button class=\"colab-df-convert\" onclick=\"convertToInteractive('df-f0f81951-f54c-4c05-832b-7864d59200d9')\"\n",
              "            title=\"Convert this dataframe to an interactive table.\"\n",
              "            style=\"display:none;\">\n",
              "\n",
              "  <svg xmlns=\"http://www.w3.org/2000/svg\" height=\"24px\" viewBox=\"0 -960 960 960\">\n",
              "    <path d=\"M120-120v-720h720v720H120Zm60-500h600v-160H180v160Zm220 220h160v-160H400v160Zm0 220h160v-160H400v160ZM180-400h160v-160H180v160Zm440 0h160v-160H620v160ZM180-180h160v-160H180v160Zm440 0h160v-160H620v160Z\"/>\n",
              "  </svg>\n",
              "    </button>\n",
              "\n",
              "  <style>\n",
              "    .colab-df-container {\n",
              "      display:flex;\n",
              "      gap: 12px;\n",
              "    }\n",
              "\n",
              "    .colab-df-convert {\n",
              "      background-color: #E8F0FE;\n",
              "      border: none;\n",
              "      border-radius: 50%;\n",
              "      cursor: pointer;\n",
              "      display: none;\n",
              "      fill: #1967D2;\n",
              "      height: 32px;\n",
              "      padding: 0 0 0 0;\n",
              "      width: 32px;\n",
              "    }\n",
              "\n",
              "    .colab-df-convert:hover {\n",
              "      background-color: #E2EBFA;\n",
              "      box-shadow: 0px 1px 2px rgba(60, 64, 67, 0.3), 0px 1px 3px 1px rgba(60, 64, 67, 0.15);\n",
              "      fill: #174EA6;\n",
              "    }\n",
              "\n",
              "    .colab-df-buttons div {\n",
              "      margin-bottom: 4px;\n",
              "    }\n",
              "\n",
              "    [theme=dark] .colab-df-convert {\n",
              "      background-color: #3B4455;\n",
              "      fill: #D2E3FC;\n",
              "    }\n",
              "\n",
              "    [theme=dark] .colab-df-convert:hover {\n",
              "      background-color: #434B5C;\n",
              "      box-shadow: 0px 1px 3px 1px rgba(0, 0, 0, 0.15);\n",
              "      filter: drop-shadow(0px 1px 2px rgba(0, 0, 0, 0.3));\n",
              "      fill: #FFFFFF;\n",
              "    }\n",
              "  </style>\n",
              "\n",
              "    <script>\n",
              "      const buttonEl =\n",
              "        document.querySelector('#df-f0f81951-f54c-4c05-832b-7864d59200d9 button.colab-df-convert');\n",
              "      buttonEl.style.display =\n",
              "        google.colab.kernel.accessAllowed ? 'block' : 'none';\n",
              "\n",
              "      async function convertToInteractive(key) {\n",
              "        const element = document.querySelector('#df-f0f81951-f54c-4c05-832b-7864d59200d9');\n",
              "        const dataTable =\n",
              "          await google.colab.kernel.invokeFunction('convertToInteractive',\n",
              "                                                    [key], {});\n",
              "        if (!dataTable) return;\n",
              "\n",
              "        const docLinkHtml = 'Like what you see? Visit the ' +\n",
              "          '<a target=\"_blank\" href=https://colab.research.google.com/notebooks/data_table.ipynb>data table notebook</a>'\n",
              "          + ' to learn more about interactive tables.';\n",
              "        element.innerHTML = '';\n",
              "        dataTable['output_type'] = 'display_data';\n",
              "        await google.colab.output.renderOutput(dataTable, element);\n",
              "        const docLink = document.createElement('div');\n",
              "        docLink.innerHTML = docLinkHtml;\n",
              "        element.appendChild(docLink);\n",
              "      }\n",
              "    </script>\n",
              "  </div>\n",
              "\n",
              "\n",
              "    <div id=\"df-39d8ef37-3cba-46ea-81aa-dfa196c2e666\">\n",
              "      <button class=\"colab-df-quickchart\" onclick=\"quickchart('df-39d8ef37-3cba-46ea-81aa-dfa196c2e666')\"\n",
              "                title=\"Suggest charts\"\n",
              "                style=\"display:none;\">\n",
              "\n",
              "<svg xmlns=\"http://www.w3.org/2000/svg\" height=\"24px\"viewBox=\"0 0 24 24\"\n",
              "     width=\"24px\">\n",
              "    <g>\n",
              "        <path d=\"M19 3H5c-1.1 0-2 .9-2 2v14c0 1.1.9 2 2 2h14c1.1 0 2-.9 2-2V5c0-1.1-.9-2-2-2zM9 17H7v-7h2v7zm4 0h-2V7h2v10zm4 0h-2v-4h2v4z\"/>\n",
              "    </g>\n",
              "</svg>\n",
              "      </button>\n",
              "\n",
              "<style>\n",
              "  .colab-df-quickchart {\n",
              "      --bg-color: #E8F0FE;\n",
              "      --fill-color: #1967D2;\n",
              "      --hover-bg-color: #E2EBFA;\n",
              "      --hover-fill-color: #174EA6;\n",
              "      --disabled-fill-color: #AAA;\n",
              "      --disabled-bg-color: #DDD;\n",
              "  }\n",
              "\n",
              "  [theme=dark] .colab-df-quickchart {\n",
              "      --bg-color: #3B4455;\n",
              "      --fill-color: #D2E3FC;\n",
              "      --hover-bg-color: #434B5C;\n",
              "      --hover-fill-color: #FFFFFF;\n",
              "      --disabled-bg-color: #3B4455;\n",
              "      --disabled-fill-color: #666;\n",
              "  }\n",
              "\n",
              "  .colab-df-quickchart {\n",
              "    background-color: var(--bg-color);\n",
              "    border: none;\n",
              "    border-radius: 50%;\n",
              "    cursor: pointer;\n",
              "    display: none;\n",
              "    fill: var(--fill-color);\n",
              "    height: 32px;\n",
              "    padding: 0;\n",
              "    width: 32px;\n",
              "  }\n",
              "\n",
              "  .colab-df-quickchart:hover {\n",
              "    background-color: var(--hover-bg-color);\n",
              "    box-shadow: 0 1px 2px rgba(60, 64, 67, 0.3), 0 1px 3px 1px rgba(60, 64, 67, 0.15);\n",
              "    fill: var(--button-hover-fill-color);\n",
              "  }\n",
              "\n",
              "  .colab-df-quickchart-complete:disabled,\n",
              "  .colab-df-quickchart-complete:disabled:hover {\n",
              "    background-color: var(--disabled-bg-color);\n",
              "    fill: var(--disabled-fill-color);\n",
              "    box-shadow: none;\n",
              "  }\n",
              "\n",
              "  .colab-df-spinner {\n",
              "    border: 2px solid var(--fill-color);\n",
              "    border-color: transparent;\n",
              "    border-bottom-color: var(--fill-color);\n",
              "    animation:\n",
              "      spin 1s steps(1) infinite;\n",
              "  }\n",
              "\n",
              "  @keyframes spin {\n",
              "    0% {\n",
              "      border-color: transparent;\n",
              "      border-bottom-color: var(--fill-color);\n",
              "      border-left-color: var(--fill-color);\n",
              "    }\n",
              "    20% {\n",
              "      border-color: transparent;\n",
              "      border-left-color: var(--fill-color);\n",
              "      border-top-color: var(--fill-color);\n",
              "    }\n",
              "    30% {\n",
              "      border-color: transparent;\n",
              "      border-left-color: var(--fill-color);\n",
              "      border-top-color: var(--fill-color);\n",
              "      border-right-color: var(--fill-color);\n",
              "    }\n",
              "    40% {\n",
              "      border-color: transparent;\n",
              "      border-right-color: var(--fill-color);\n",
              "      border-top-color: var(--fill-color);\n",
              "    }\n",
              "    60% {\n",
              "      border-color: transparent;\n",
              "      border-right-color: var(--fill-color);\n",
              "    }\n",
              "    80% {\n",
              "      border-color: transparent;\n",
              "      border-right-color: var(--fill-color);\n",
              "      border-bottom-color: var(--fill-color);\n",
              "    }\n",
              "    90% {\n",
              "      border-color: transparent;\n",
              "      border-bottom-color: var(--fill-color);\n",
              "    }\n",
              "  }\n",
              "</style>\n",
              "\n",
              "      <script>\n",
              "        async function quickchart(key) {\n",
              "          const quickchartButtonEl =\n",
              "            document.querySelector('#' + key + ' button');\n",
              "          quickchartButtonEl.disabled = true;  // To prevent multiple clicks.\n",
              "          quickchartButtonEl.classList.add('colab-df-spinner');\n",
              "          try {\n",
              "            const charts = await google.colab.kernel.invokeFunction(\n",
              "                'suggestCharts', [key], {});\n",
              "          } catch (error) {\n",
              "            console.error('Error during call to suggestCharts:', error);\n",
              "          }\n",
              "          quickchartButtonEl.classList.remove('colab-df-spinner');\n",
              "          quickchartButtonEl.classList.add('colab-df-quickchart-complete');\n",
              "        }\n",
              "        (() => {\n",
              "          let quickchartButtonEl =\n",
              "            document.querySelector('#df-39d8ef37-3cba-46ea-81aa-dfa196c2e666 button');\n",
              "          quickchartButtonEl.style.display =\n",
              "            google.colab.kernel.accessAllowed ? 'block' : 'none';\n",
              "        })();\n",
              "      </script>\n",
              "    </div>\n",
              "\n",
              "    </div>\n",
              "  </div>\n"
            ],
            "application/vnd.google.colaboratory.intrinsic+json": {
              "type": "dataframe",
              "variable_name": "df",
              "summary": "{\n  \"name\": \"df\",\n  \"rows\": 15509,\n  \"fields\": [\n    {\n      \"column\": \"Name\",\n      \"properties\": {\n        \"dtype\": \"string\",\n        \"num_unique_values\": 13838,\n        \"samples\": [\n          \"Tumsa Nahin Dekha\",\n          \"Thanedaar\",\n          \"Farzande Hind\"\n        ],\n        \"semantic_type\": \"\",\n        \"description\": \"\"\n      }\n    },\n    {\n      \"column\": \"Year\",\n      \"properties\": {\n        \"dtype\": \"category\",\n        \"num_unique_values\": 102,\n        \"samples\": [\n          \"(1974)\",\n          \"(1963)\",\n          \"(1971)\"\n        ],\n        \"semantic_type\": \"\",\n        \"description\": \"\"\n      }\n    },\n    {\n      \"column\": \"Duration\",\n      \"properties\": {\n        \"dtype\": \"category\",\n        \"num_unique_values\": 182,\n        \"samples\": [\n          \"168 min\",\n          \"99 min\",\n          \"179 min\"\n        ],\n        \"semantic_type\": \"\",\n        \"description\": \"\"\n      }\n    },\n    {\n      \"column\": \"Genre\",\n      \"properties\": {\n        \"dtype\": \"category\",\n        \"num_unique_values\": 485,\n        \"samples\": [\n          \"Family, Mystery\",\n          \"Comedy, Fantasy, Musical\",\n          \"Action, Adventure, Crime\"\n        ],\n        \"semantic_type\": \"\",\n        \"description\": \"\"\n      }\n    },\n    {\n      \"column\": \"Rating\",\n      \"properties\": {\n        \"dtype\": \"number\",\n        \"std\": 1.3817771548659543,\n        \"min\": 1.1,\n        \"max\": 10.0,\n        \"num_unique_values\": 84,\n        \"samples\": [\n          1.4,\n          7.0,\n          2.9\n        ],\n        \"semantic_type\": \"\",\n        \"description\": \"\"\n      }\n    },\n    {\n      \"column\": \"Votes\",\n      \"properties\": {\n        \"dtype\": \"category\",\n        \"num_unique_values\": 2034,\n        \"samples\": [\n          \"837\",\n          \"101\",\n          \"2,566\"\n        ],\n        \"semantic_type\": \"\",\n        \"description\": \"\"\n      }\n    },\n    {\n      \"column\": \"Director\",\n      \"properties\": {\n        \"dtype\": \"category\",\n        \"num_unique_values\": 5938,\n        \"samples\": [\n          \"Param Hans Chitra\",\n          \"Vickram\",\n          \"Zaigham Ali Syed\"\n        ],\n        \"semantic_type\": \"\",\n        \"description\": \"\"\n      }\n    },\n    {\n      \"column\": \"Actor 1\",\n      \"properties\": {\n        \"dtype\": \"category\",\n        \"num_unique_values\": 4718,\n        \"samples\": [\n          \"Abhishek Bachchan\",\n          \"Giri Babu\",\n          \"Ajay Bafna\"\n        ],\n        \"semantic_type\": \"\",\n        \"description\": \"\"\n      }\n    },\n    {\n      \"column\": \"Actor 2\",\n      \"properties\": {\n        \"dtype\": \"category\",\n        \"num_unique_values\": 4891,\n        \"samples\": [\n          \"Bipasha Basu\",\n          \"Mukul Dev\",\n          \"Arjun Kapoor\"\n        ],\n        \"semantic_type\": \"\",\n        \"description\": \"\"\n      }\n    },\n    {\n      \"column\": \"Actor 3\",\n      \"properties\": {\n        \"dtype\": \"category\",\n        \"num_unique_values\": 4820,\n        \"samples\": [\n          \"Damandeep Singh\",\n          \"Kamini Kaushal\",\n          \"Babu\"\n        ],\n        \"semantic_type\": \"\",\n        \"description\": \"\"\n      }\n    }\n  ]\n}"
            }
          },
          "metadata": {},
          "execution_count": 4
        }
      ],
      "source": [
        "path=\"/content/IMDb Movies India.csv\"\n",
        "df=pd.read_csv(path,encoding='latin')\n",
        "df.head()"
      ]
    },
    {
      "cell_type": "code",
      "execution_count": null,
      "metadata": {
        "colab": {
          "base_uri": "https://localhost:8080/"
        },
        "id": "uOMRdGppWEFH",
        "outputId": "67bac8f9-a2ec-447a-8366-76b3b7e9bd38"
      },
      "outputs": [
        {
          "output_type": "stream",
          "name": "stdout",
          "text": [
            "Name           0\n",
            "Year         528\n",
            "Duration    8269\n",
            "Genre       1877\n",
            "Rating      7590\n",
            "Votes       7589\n",
            "Director     525\n",
            "Actor 1     1617\n",
            "Actor 2     2384\n",
            "Actor 3     3144\n",
            "dtype: int64\n"
          ]
        }
      ],
      "source": [
        "print(df.isnull().sum())\n"
      ]
    },
    {
      "cell_type": "code",
      "execution_count": null,
      "metadata": {
        "id": "d2SjbdMeWPRa"
      },
      "outputs": [],
      "source": [
        "df.dropna(inplace=True)"
      ]
    },
    {
      "cell_type": "code",
      "execution_count": null,
      "metadata": {
        "id": "7ZogkiUtWUO1"
      },
      "outputs": [],
      "source": [
        "\n",
        "df.fillna(df['Year'].mode()[0], inplace=True)  # For categorical columns"
      ]
    },
    {
      "cell_type": "code",
      "execution_count": null,
      "metadata": {
        "id": "Wv1Y_BzKWorX"
      },
      "outputs": [],
      "source": [
        "\n",
        "df.fillna(df['Duration'].mode()[0], inplace=True)  # For categorical columns"
      ]
    },
    {
      "cell_type": "code",
      "execution_count": null,
      "metadata": {
        "id": "TnzvpOW4W0t7"
      },
      "outputs": [],
      "source": [
        "\n",
        "df.fillna(df['Genre'].mode()[0], inplace=True)  # For categorical columns"
      ]
    },
    {
      "cell_type": "code",
      "execution_count": null,
      "metadata": {
        "id": "V2Zq4AXWXAbH"
      },
      "outputs": [],
      "source": [
        "\n",
        "df.fillna(df['Rating'].mode()[0], inplace=True)  # For categorical columns"
      ]
    },
    {
      "cell_type": "code",
      "execution_count": null,
      "metadata": {
        "id": "4SkyKXBnXVYA"
      },
      "outputs": [],
      "source": [
        "\n",
        "\n",
        "df.fillna(df['Votes'].mode()[0], inplace=True)  # For categorical columns'].mode()[0], inplace=True)  # For categorical columns"
      ]
    },
    {
      "cell_type": "code",
      "execution_count": null,
      "metadata": {
        "id": "55uNy3zTXkvN"
      },
      "outputs": [],
      "source": [
        "\n",
        "df.fillna(df['Director'].mode()[0], inplace=True)  # For categorical columns"
      ]
    },
    {
      "cell_type": "code",
      "execution_count": null,
      "metadata": {
        "id": "IsIrnvP6X1Pq"
      },
      "outputs": [],
      "source": [
        "\n",
        "df.fillna(df['Actor 1'].mode()[0], inplace=True)  # For categorical columns"
      ]
    },
    {
      "cell_type": "code",
      "execution_count": null,
      "metadata": {
        "id": "9ZJ-oLEyYipg"
      },
      "outputs": [],
      "source": [
        "\n",
        "df.fillna(df['Actor 2'].mode()[0], inplace=True)  # For categorical columns"
      ]
    },
    {
      "cell_type": "code",
      "execution_count": null,
      "metadata": {
        "id": "QMQJ6riJYsHi"
      },
      "outputs": [],
      "source": [
        "\n",
        "df.fillna(df['Actor 3'].mode()[0], inplace=True)"
      ]
    },
    {
      "cell_type": "code",
      "execution_count": null,
      "metadata": {
        "colab": {
          "base_uri": "https://localhost:8080/"
        },
        "id": "kDT1hAWJZYKF",
        "outputId": "ed50c486-b405-45ea-ee35-590db53b4b13"
      },
      "outputs": [
        {
          "name": "stdout",
          "output_type": "stream",
          "text": [
            "Name        0\n",
            "Year        0\n",
            "Duration    0\n",
            "Genre       0\n",
            "Rating      0\n",
            "Votes       0\n",
            "Director    0\n",
            "Actor 1     0\n",
            "Actor 2     0\n",
            "Actor 3     0\n",
            "dtype: int64\n"
          ]
        }
      ],
      "source": [
        "print(df.isnull().sum())"
      ]
    },
    {
      "cell_type": "code",
      "execution_count": 1,
      "metadata": {
        "id": "YUjr7tGFZmMQ"
      },
      "outputs": [],
      "source": [
        "import pandas as pd\n",
        "\n",
        "# Load from the correct path (uploaded location)\n",
        "df = pd.read_csv(\"/content/cleaned movie dataset.csv\")\n"
      ]
    },
    {
      "cell_type": "code",
      "source": [
        "# Clean Year\n",
        "df['Year'] = df['Year'].str.extract(r'(\\d{4})').astype(int)\n",
        "\n",
        "# Clean Duration\n",
        "df['Duration'] = df['Duration'].str.extract(r'(\\d+)').astype(int)\n",
        "\n",
        "# Clean Votes\n",
        "df['Votes'] = df['Votes'].str.replace(',', '').astype(int)\n",
        "\n",
        "# Standardize categorical text\n",
        "for col in ['Genre', 'Director', 'Actor 1', 'Actor 2', 'Actor 3']:\n",
        "    df[col] = df[col].str.strip().str.lower()\n"
      ],
      "metadata": {
        "id": "pW-FsPaAyTH8"
      },
      "execution_count": 2,
      "outputs": []
    },
    {
      "cell_type": "code",
      "source": [
        "df.to_csv(\"C:\\\\Users\\\\Kuljirajan\\\\Downloads\\\\Data\\\\cleaned movie dataset.csv\", index=False)\n"
      ],
      "metadata": {
        "id": "bXmkNCoYyW0U"
      },
      "execution_count": 3,
      "outputs": []
    },
    {
      "cell_type": "code",
      "source": [
        "print(df['Year'].unique()[:10])  # View first 10 unique years\n",
        "print(df['Year'].dtype)          # Should be int or int64\n"
      ],
      "metadata": {
        "colab": {
          "base_uri": "https://localhost:8080/"
        },
        "id": "v9_VFXmTzllx",
        "outputId": "375a06ae-6e9b-4b1d-9509-5df9237159ac"
      },
      "execution_count": 4,
      "outputs": [
        {
          "output_type": "stream",
          "name": "stdout",
          "text": [
            "[2019 1997 2005 2012 2014 2004 2016 1991 2018 2010]\n",
            "int64\n"
          ]
        }
      ]
    },
    {
      "cell_type": "code",
      "source": [
        "print(df['Duration'].unique()[:10])\n",
        "print(df['Duration'].dtype)\n"
      ],
      "metadata": {
        "colab": {
          "base_uri": "https://localhost:8080/"
        },
        "id": "qPxulrTfztH9",
        "outputId": "490f86ca-c040-4243-e6a1-e0f7ed7027c7"
      },
      "execution_count": 5,
      "outputs": [
        {
          "output_type": "stream",
          "name": "stdout",
          "text": [
            "[109 110 147 142  82 116  96 120 161 166]\n",
            "int64\n"
          ]
        }
      ]
    },
    {
      "cell_type": "code",
      "source": [
        "print(df['Votes'].unique()[:10])\n",
        "print(df['Votes'].dtype)\n"
      ],
      "metadata": {
        "colab": {
          "base_uri": "https://localhost:8080/"
        },
        "id": "NlAS2uwXzyGN",
        "outputId": "f65b6e90-8306-4723-f0f9-e4e3c5aed4c1"
      },
      "execution_count": null,
      "outputs": [
        {
          "output_type": "stream",
          "name": "stdout",
          "text": [
            "[   8   35  827 1086  326   11   17   59  983  512]\n",
            "int64\n"
          ]
        }
      ]
    },
    {
      "cell_type": "code",
      "source": [
        "for col in ['Genre', 'Director', 'Actor 1', 'Actor 2', 'Actor 3']:\n",
        "    print(f\"{col} examples: {df[col].unique()[:5]}\")\n"
      ],
      "metadata": {
        "colab": {
          "base_uri": "https://localhost:8080/"
        },
        "id": "4LwUfD2-z4BF",
        "outputId": "5ee9213b-97a5-427f-f5a4-b17185851a91"
      },
      "execution_count": 6,
      "outputs": [
        {
          "output_type": "stream",
          "name": "stdout",
          "text": [
            "Genre examples: ['drama' 'comedy, romance' 'comedy, drama, musical' 'drama, romance, war'\n",
            " 'horror, mystery, thriller']\n",
            "Director examples: ['gaurav bakshi' 'ovais khan' 'rahul rawail' 'shoojit sircar'\n",
            " 'allyson patel']\n",
            "Actor 1 examples: ['rasika dugal' 'prateik' 'bobby deol' 'jimmy sheirgill' 'yash dave']\n",
            "Actor 2 examples: ['vivek ghamande' 'ishita raj' 'aishwarya rai bachchan' 'minissha lamba'\n",
            " 'muntazir ahmad']\n",
            "Actor 3 examples: ['arvind jangid' 'siddhant kapoor' 'shammi kapoor' 'yashpal sharma'\n",
            " 'kiran bhatia']\n"
          ]
        }
      ]
    },
    {
      "cell_type": "code",
      "source": [
        "# Core ML tools\n",
        "import pandas as pd\n",
        "import numpy as np\n",
        "\n",
        "# Models\n",
        "from sklearn.linear_model import LinearRegression, Ridge\n",
        "from sklearn.ensemble import RandomForestRegressor\n",
        "from sklearn.svm import SVR\n",
        "\n",
        "# XGBoost (only if installed)\n",
        "try:\n",
        "    from xgboost import XGBRegressor\n",
        "except ImportError:\n",
        "    print(\"XGBoost not installed. You can install it using: pip install xgboost\")\n"
      ],
      "metadata": {
        "id": "y1M2i_Iq1Jbr"
      },
      "execution_count": 7,
      "outputs": []
    },
    {
      "cell_type": "code",
      "source": [
        "from sklearn.model_selection import train_test_split\n",
        "\n",
        "# Separate features and target\n",
        "X = df.drop('Rating', axis=1)\n",
        "y = df['Rating']\n",
        "\n",
        "# Only keep numeric features (for now)\n",
        "X = X.select_dtypes(include=[np.number])\n",
        "\n",
        "# Train-test split\n",
        "X_train, X_test, y_train, y_test = train_test_split(\n",
        "    X, y, test_size=0.2, random_state=42\n",
        ")\n"
      ],
      "metadata": {
        "id": "VZt2Mlem1rBj"
      },
      "execution_count": 8,
      "outputs": []
    },
    {
      "cell_type": "code",
      "source": [
        "from sklearn.linear_model import LinearRegression\n",
        "\n",
        "model = LinearRegression()\n",
        "model.fit(X_train, y_train)\n",
        "y_pred = model.predict(X_test)\n"
      ],
      "metadata": {
        "id": "SnGgv94V1z-O"
      },
      "execution_count": 12,
      "outputs": []
    },
    {
      "cell_type": "code",
      "source": [
        "import numpy as np\n",
        "from sklearn.metrics import mean_squared_error, mean_absolute_error, r2_score\n",
        "\n",
        "mse = mean_squared_error(y_test, y_pred)\n",
        "rmse = np.sqrt(mse)\n",
        "\n",
        "print(\"R² Score:\", r2_score(y_test, y_pred))\n",
        "print(\"MAE:\", mean_absolute_error(y_test, y_pred))\n",
        "print(\"RMSE:\", rmse)\n"
      ],
      "metadata": {
        "colab": {
          "base_uri": "https://localhost:8080/"
        },
        "id": "LDbQbGem2PIY",
        "outputId": "1d0d2ae6-3735-4d5b-b940-6df79d4e2bdd"
      },
      "execution_count": 13,
      "outputs": [
        {
          "output_type": "stream",
          "name": "stdout",
          "text": [
            "R² Score: 0.07798737059748773\n",
            "MAE: 1.060606221312931\n",
            "RMSE: 1.3066487776555733\n"
          ]
        }
      ]
    },
    {
      "cell_type": "code",
      "source": [
        "coefficients = model.coef_\n",
        "features = X.columns\n",
        "\n",
        "for feat, coef in zip(features, coefficients):\n",
        "    print(f\"{feat}: {coef:.4f}\")\n"
      ],
      "metadata": {
        "colab": {
          "base_uri": "https://localhost:8080/"
        },
        "id": "h-Lk-oZc2kMx",
        "outputId": "5a209918-ad0e-4c24-9ec0-92fe5b3b8401"
      },
      "execution_count": 14,
      "outputs": [
        {
          "output_type": "stream",
          "name": "stdout",
          "text": [
            "Year: -0.0187\n",
            "Duration: -0.0061\n",
            "Votes: 0.0000\n"
          ]
        }
      ]
    },
    {
      "cell_type": "code",
      "source": [],
      "metadata": {
        "id": "gV4PWLsZ2j_j"
      },
      "execution_count": null,
      "outputs": []
    }
  ],
  "metadata": {
    "colab": {
      "provenance": [],
      "authorship_tag": "ABX9TyNbbnn74sibqNz03GWHbv8r",
      "include_colab_link": true
    },
    "kernelspec": {
      "display_name": "Python 3",
      "name": "python3"
    },
    "language_info": {
      "name": "python"
    }
  },
  "nbformat": 4,
  "nbformat_minor": 0
}